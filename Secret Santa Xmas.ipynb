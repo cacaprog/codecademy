{
 "cells": [
  {
   "cell_type": "code",
   "execution_count": 34,
   "id": "2b03e841",
   "metadata": {},
   "outputs": [],
   "source": [
    "#Store the names in an array/list.\n",
    "#Pair participants and output the pairs.\n",
    "\n",
    "import random"
   ]
  },
  {
   "cell_type": "code",
   "execution_count": 43,
   "id": "e3b5a25f",
   "metadata": {},
   "outputs": [],
   "source": [
    "#all the guys list\n",
    "santa_list = [\"Michel Scott\", \n",
    "    \"Dwight Schrute\", \n",
    "    \"Jim Halpert\", \n",
    "    \"Pam Beesly\", \n",
    "    \"Jan Levinson\", \n",
    "    \"Kevin Malone\", \n",
    "    \"Toby Flenderson\", \n",
    "    \"Angela Martin\", \n",
    "    \"Andy Bernard\", \n",
    "    \"Stanley Hudson\", \n",
    "    \"Ryan Howard\", \n",
    "    \"Kelly Kapoor\"\n",
    "]\n",
    "santa_receivers = santa_list.copy()"
   ]
  },
  {
   "cell_type": "code",
   "execution_count": 44,
   "id": "eda6f3ab",
   "metadata": {},
   "outputs": [
    {
     "name": "stdout",
     "output_type": "stream",
     "text": [
      "Michel Scott is Kevin Malone's Secret Santa. Merry Christmas!\n",
      "Dwight Schrute is Michel Scott's Secret Santa. Merry Christmas!\n",
      "Jim Halpert is Dwight Schrute's Secret Santa. Merry Christmas!\n",
      "Pam Beesly is Ryan Howard's Secret Santa. Merry Christmas!\n",
      "Jan Levinson is Jim Halpert's Secret Santa. Merry Christmas!\n",
      "Toby Flenderson is Stanley Hudson's Secret Santa. Merry Christmas!\n",
      "Angela Martin is Pam Beesly's Secret Santa. Merry Christmas!\n",
      "Andy Bernard is Angela Martin's Secret Santa. Merry Christmas!\n",
      "Kelly Kapoor is Kelly Kapoor's Secret Santa. Merry Christmas!\n"
     ]
    }
   ],
   "source": [
    "#pair the people\n",
    "\n",
    "for person in santa_list:\n",
    "    if person in santa_receivers:\n",
    "        receivers = random.choice(santa_receivers)\n",
    "        santa_receivers.remove(receivers)\n",
    "        print(f\"{person} is {receivers}'s Secret Santa. Merry Christmas!\")"
   ]
  },
  {
   "cell_type": "code",
   "execution_count": null,
   "id": "08049d66",
   "metadata": {},
   "outputs": [],
   "source": []
  },
  {
   "cell_type": "code",
   "execution_count": null,
   "id": "17cceec5",
   "metadata": {},
   "outputs": [],
   "source": []
  }
 ],
 "metadata": {
  "kernelspec": {
   "display_name": "Python 3",
   "language": "python",
   "name": "python3"
  },
  "language_info": {
   "codemirror_mode": {
    "name": "ipython",
    "version": 3
   },
   "file_extension": ".py",
   "mimetype": "text/x-python",
   "name": "python",
   "nbconvert_exporter": "python",
   "pygments_lexer": "ipython3",
   "version": "3.8.8"
  }
 },
 "nbformat": 4,
 "nbformat_minor": 5
}
